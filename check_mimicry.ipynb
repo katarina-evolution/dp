{
 "cells": [
  {
   "cell_type": "code",
   "execution_count": 16,
   "id": "d6bd5f08",
   "metadata": {},
   "outputs": [],
   "source": [
    "import os\n",
    "import json"
   ]
  },
  {
   "cell_type": "code",
   "execution_count": 1,
   "id": "8086cd25",
   "metadata": {},
   "outputs": [
    {
     "name": "stdout",
     "output_type": "stream",
     "text": [
      "uid\t|\tparent_uid\t|\tname\t|\trank\t|\tsourceinfo\t|\tuniqname\t|\tflags\t|\t\r\n",
      "805080\t|\t\t|\tlife\t|\tno rank\t|\tsilva:0,ncbi:1,gbif:0,irmng:0\t|\t\t|\t\t|\t\r\n",
      "93302\t|\t805080\t|\tcellular organisms\t|\tno rank\t|\tncbi:131567\t|\t\t|\t\t|\t\r\n",
      "844192\t|\t93302\t|\tBacteria\t|\tdomain\t|\tsilva:A16379/#1,ncbi:2,worms:6,gbif:3,irmng:13,irmng:109739,irmng:109741\t|\t\t|\t\t|\t\r\n",
      "248067\t|\t844192\t|\tProteobacteria\t|\tphylum\t|\tsilva:A16379/#2,ncbi:1224,worms:178054,gbif:111,irmng:192\t|\tProteobacteria (phylum silva:A16379/#2)\t|\t\t|\t\r\n",
      "822744\t|\t248067\t|\tGammaproteobacteria\t|\tclass\t|\tsilva:A16379/#3,ncbi:1236,worms:393018,gbif:362,irmng:1392\t|\t\t|\tsibling_higher\t|\t\r\n",
      "767311\t|\t822744\t|\tPasteurellales\t|\torder\t|\tsilva:A16379/#4,ncbi:135625,worms:394199,gbif:1472,irmng:11731\t|\t\t|\tsibling_higher\t|\t\r\n",
      "1098176\t|\t767311\t|\tPasteurellaceae\t|\tfamily\t|\tsilva:A16379/#5,ncbi:712,worms:394200,gbif:9536,irmng:104984\t|\tPasteurellaceae (family silva:A16379/#5)\t|\t\t|\t\r\n",
      "470454\t|\t1098176\t|\tHaemophilus\t|\tgenus\t|\tsilva:A16379/#6,ncbi:724,worms:571392,gbif:3219815,irmng:1307220\t|\t\t|\t\t|\t\r\n",
      "525972\t|\t470454\t|\tHaemophilus pittmaniae HK 85\t|\tno rank - terminal\t|\tsilva:AFUV01000004,ncbi:1035188\t|\t\t|\t\t|\t\r\n"
     ]
    }
   ],
   "source": [
    "!head taxonomy/ott3.2/taxonomy.tsv"
   ]
  },
  {
   "cell_type": "code",
   "execution_count": 2,
   "id": "d8cccfb8",
   "metadata": {},
   "outputs": [],
   "source": [
    "taxonomy_file = 'taxonomy/ott3.2/taxonomy.tsv'"
   ]
  },
  {
   "cell_type": "code",
   "execution_count": 5,
   "id": "35c19153",
   "metadata": {},
   "outputs": [],
   "source": [
    "is_header = True\n",
    "genus = set()\n",
    "\n",
    "with open(taxonomy_file, 'r') as f:\n",
    "    for row in f:\n",
    "        row = row.strip()\n",
    "        items = [s.strip() for s in row.split('|')]\n",
    "        if is_header:\n",
    "            columns = items\n",
    "            is_header = False\n",
    "        else:\n",
    "            d = dict(zip(columns, items))\n",
    "            if d['rank'] == 'genus':\n",
    "                genus.add(d['name'])"
   ]
  },
  {
   "cell_type": "code",
   "execution_count": 7,
   "id": "1e9910cc",
   "metadata": {},
   "outputs": [
    {
     "data": {
      "text/plain": [
       "True"
      ]
     },
     "execution_count": 7,
     "metadata": {},
     "output_type": "execute_result"
    }
   ],
   "source": [
    "'Vespula' in genus"
   ]
  },
  {
   "cell_type": "code",
   "execution_count": 8,
   "id": "3c766d50",
   "metadata": {},
   "outputs": [
    {
     "data": {
      "text/plain": [
       "True"
      ]
     },
     "execution_count": 8,
     "metadata": {},
     "output_type": "execute_result"
    }
   ],
   "source": [
    "'Bombus' in genus"
   ]
  },
  {
   "cell_type": "code",
   "execution_count": 11,
   "id": "220f1ed3",
   "metadata": {},
   "outputs": [
    {
     "data": {
      "text/plain": [
       "294808"
      ]
     },
     "execution_count": 11,
     "metadata": {},
     "output_type": "execute_result"
    }
   ],
   "source": [
    "len(genus)"
   ]
  },
  {
   "cell_type": "code",
   "execution_count": 22,
   "id": "1a835bf2",
   "metadata": {},
   "outputs": [],
   "source": [
    "mimicry_files = [s for s in os.listdir('mimicry') if s.endswith('.json')]"
   ]
  },
  {
   "cell_type": "code",
   "execution_count": 26,
   "id": "0405c0e3",
   "metadata": {},
   "outputs": [
    {
     "name": "stdout",
     "output_type": "stream",
     "text": [
      "Myrmoplasta\n"
     ]
    }
   ],
   "source": [
    "for mf in mimicry_files:\n",
    "    path = os.path.join('mimicry', mf)\n",
    "    #print(path)\n",
    "    with open(path, 'r') as f:\n",
    "        data = json.loads(f.read())\n",
    "        \n",
    "    if not data['mimetic']['genus'] in genus:\n",
    "        print(data['mimetic']['genus'])\n",
    "        \n",
    "    for model in data['model']:\n",
    "        if not model['genus'] in genus:\n",
    "            print(model['genus'])"
   ]
  },
  {
   "cell_type": "code",
   "execution_count": null,
   "id": "32b4b587",
   "metadata": {},
   "outputs": [],
   "source": []
  }
 ],
 "metadata": {
  "kernelspec": {
   "display_name": "Python 3",
   "language": "python",
   "name": "python3"
  },
  "language_info": {
   "codemirror_mode": {
    "name": "ipython",
    "version": 3
   },
   "file_extension": ".py",
   "mimetype": "text/x-python",
   "name": "python",
   "nbconvert_exporter": "python",
   "pygments_lexer": "ipython3",
   "version": "3.8.10"
  }
 },
 "nbformat": 4,
 "nbformat_minor": 5
}
