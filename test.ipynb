{
 "cells": [
  {
   "cell_type": "code",
   "execution_count": 1,
   "id": "062f6a56",
   "metadata": {},
   "outputs": [],
   "source": [
    "import json\n",
    "import shutil\n",
    "\n",
    "import requests"
   ]
  },
  {
   "cell_type": "code",
   "execution_count": 2,
   "id": "707c215a",
   "metadata": {},
   "outputs": [],
   "source": [
    "url = 'http://www.boldsystems.org/index.php/API_Public/combined?taxon=Vespula&format=json'"
   ]
  },
  {
   "cell_type": "code",
   "execution_count": 4,
   "id": "9dc07051",
   "metadata": {},
   "outputs": [
    {
     "name": "stdout",
     "output_type": "stream",
     "text": [
      "success\n"
     ]
    }
   ],
   "source": [
    "with requests.get(url=url, stream=True) as response:\n",
    "    if response.status_code == 200:\n",
    "        with open('vespula.json', 'wb') as f:\n",
    "            response.raw.decode_content = True\n",
    "            shutil.copyfileobj(response.raw, f)\n",
    "        print('success')\n",
    "    else:\n",
    "        print('failure')"
   ]
  },
  {
   "cell_type": "code",
   "execution_count": 8,
   "id": "86d5a87b",
   "metadata": {},
   "outputs": [],
   "source": [
    "with open('vespula.json') as f:\n",
    "    data = json.loads(f.read())"
   ]
  },
  {
   "cell_type": "code",
   "execution_count": 2,
   "id": "43f34370",
   "metadata": {},
   "outputs": [],
   "source": [
    "#data['bold_records']['records']['BBHYA634-12']"
   ]
  },
  {
   "cell_type": "code",
   "execution_count": 13,
   "id": "b606a447",
   "metadata": {},
   "outputs": [],
   "source": [
    "url = 'http://www.boldsystems.org/index.php/API_Public/stats?taxon=Vespula&format=json'"
   ]
  },
  {
   "cell_type": "code",
   "execution_count": 14,
   "id": "08d16ac1",
   "metadata": {},
   "outputs": [],
   "source": [
    "r = requests.get(url=url)"
   ]
  },
  {
   "cell_type": "code",
   "execution_count": 15,
   "id": "8e8b3bd3",
   "metadata": {},
   "outputs": [
    {
     "data": {
      "text/plain": [
       "{'total_records': 1194,\n",
       " 'records_with_species_name': 1182,\n",
       " 'bins': {'count': 20,\n",
       "  'drill_down': {'entity': [{'name': None, 'records': None},\n",
       "    {'name': None, 'records': None}]}},\n",
       " 'countries': {'count': 25,\n",
       "  'drill_down': {'entity': [{'name': None, 'records': None},\n",
       "    {'name': None, 'records': None}]}},\n",
       " 'depositories': {'count': 20,\n",
       "  'drill_down': {'entity': [{'name': None, 'records': None},\n",
       "    {'name': None, 'records': None}]}},\n",
       " 'order': {'count': 1,\n",
       "  'drill_down': {'entity': [{'name': None, 'records': None},\n",
       "    {'name': None, 'records': None}]}},\n",
       " 'family': {'count': 1,\n",
       "  'drill_down': {'entity': [{'name': None, 'records': None},\n",
       "    {'name': None, 'records': None}]}},\n",
       " 'genus': {'count': 1,\n",
       "  'drill_down': {'entity': [{'name': None, 'records': None},\n",
       "    {'name': None, 'records': None}]}},\n",
       " 'species': {'count': 19,\n",
       "  'drill_down': {'entity': [{'name': None, 'records': None},\n",
       "    {'name': None, 'records': None}]}}}"
      ]
     },
     "execution_count": 15,
     "metadata": {},
     "output_type": "execute_result"
    }
   ],
   "source": [
    "json.loads(r.text)"
   ]
  },
  {
   "cell_type": "code",
   "execution_count": 4,
   "id": "cb41578b",
   "metadata": {},
   "outputs": [
    {
     "name": "stdout",
     "output_type": "stream",
     "text": [
      ".\t\t\t limenitis_archippus.json      scaphura.json\r\n",
      "..\t\t\t limenitis_astyanax.json       sericomyia.json\r\n",
      "aphylax_lyciformis.json  mallota.json\t\t       synanthedon.json\r\n",
      "argynnis_diana.json\t merodon.json\t\t       syntomeida.json\r\n",
      "brachypalpus.json\t myrmecophilus_acervorum.json  syntomidae.json\r\n",
      "criorhina.json\t\t myrmoplasta_mira.json\t       syrphus_ribesii.json\r\n",
      ".DS_Store\t\t papilio_asterius.json\t       volucella_bombylans.json\r\n",
      "elytroleptus.json\t papilio_glaucus.json\t       volucella.json\r\n",
      "hyperechia.json\t\t papilio_troilus.json\t       volucella_plumata.json\r\n",
      "ithomeis.json\t\t photuris.json\t\t       volucella_zonaria.json\r\n",
      "leptalis.json\t\t pocota.json\t\t       xanthocryptus.json\r\n"
     ]
    }
   ],
   "source": [
    "!ls -a"
   ]
  },
  {
   "cell_type": "code",
   "execution_count": null,
   "id": "696b8dcc",
   "metadata": {},
   "outputs": [],
   "source": []
  },
  {
   "cell_type": "code",
   "execution_count": null,
   "id": "eb48005e",
   "metadata": {},
   "outputs": [],
   "source": []
  }
 ],
 "metadata": {
  "kernelspec": {
   "display_name": "Python 3",
   "language": "python",
   "name": "python3"
  },
  "language_info": {
   "codemirror_mode": {
    "name": "ipython",
    "version": 3
   },
   "file_extension": ".py",
   "mimetype": "text/x-python",
   "name": "python",
   "nbconvert_exporter": "python",
   "pygments_lexer": "ipython3",
   "version": "3.8.10"
  }
 },
 "nbformat": 4,
 "nbformat_minor": 5
}
