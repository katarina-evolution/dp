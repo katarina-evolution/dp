{
 "cells": [
  {
   "cell_type": "code",
   "execution_count": 1,
   "id": "14a6b0d1",
   "metadata": {},
   "outputs": [],
   "source": [
    "import json\n",
    "import os\n",
    "\n",
    "import numpy as np"
   ]
  },
  {
   "cell_type": "code",
   "execution_count": 2,
   "id": "0b8cac3f",
   "metadata": {},
   "outputs": [],
   "source": [
    "def align(s1, s2):\n",
    "    mismatch_score = -3\n",
    "    match_score = 2\n",
    "    \n",
    "    nw = np.full((len(s1) + 1, len(s2) + 1), 0, dtype=np.int16)\n",
    "    arrow_dict = {}\n",
    "    \n",
    "    for i in range(1, nw.shape[1]):\n",
    "        nw[0, i] = nw[0, i - 1] + mismatch_score\n",
    "        arrow_dict['{}-{}'.format(0, i)] = ['{}-{}'.format(0, i - 1)]\n",
    "        \n",
    "    for i in range(1, nw.shape[0]):\n",
    "        nw[i, 0] = nw[i - 1, 0] + mismatch_score\n",
    "        arrow_dict['{}-{}'.format(i, 0)] = ['{}-{}'.format(i - 1, 0)]\n",
    "        \n",
    "    for i in range(1, nw.shape[0]):\n",
    "        for j in range(1, nw.shape[1]):\n",
    "            horizontal = nw[i, j - 1] + mismatch_score\n",
    "            vertical = nw[i - 1, j] + mismatch_score\n",
    "            diagonal = nw[i - 1, j - 1] + match_score\n",
    "\n",
    "            result = max(horizontal, vertical, diagonal)\n",
    "\n",
    "            arrow_dict['{}-{}'.format(i, j)] = []\n",
    "            if result == horizontal:\n",
    "                arrow_dict['{}-{}'.format(i, j)].append('{}-{}'.format(i, j - 1))\n",
    "            if result == vertical:\n",
    "                arrow_dict['{}-{}'.format(i, j)].append('{}-{}'.format(i - 1, j))\n",
    "            if result == diagonal:\n",
    "                arrow_dict['{}-{}'.format(i, j)].append('{}-{}'.format(i - 1, j - 1))\n",
    "\n",
    "            nw[i, j] = result\n",
    "            \n",
    "    path = []\n",
    "    curr_idx = '{}-{}'.format(nw.shape[0] - 1, nw.shape[1] - 1)\n",
    "    while curr_idx != '0-0':\n",
    "        prev_idx = arrow_dict[curr_idx][0]\n",
    "        path.append(curr_idx)\n",
    "        curr_idx = prev_idx\n",
    "    path.append('0-0')\n",
    "    \n",
    "    idx1 = len(s1) - 1\n",
    "    idx2 = len(s2) - 1\n",
    "\n",
    "    s1_align = ''\n",
    "    s2_align = ''\n",
    "\n",
    "    for i in range(len(path) - 1):\n",
    "        curr = [int(i) for i in path[i].split('-')]\n",
    "        prev = [int(i) for i in path[i + 1].split('-')]\n",
    "\n",
    "        if (curr[0] > prev[0]) and (curr[1] > prev[1]):  # diagonal\n",
    "            s1_align += s1[idx1]\n",
    "            s2_align += s2[idx2]\n",
    "            idx1 -= 1\n",
    "            idx2 -= 1\n",
    "        elif (curr[0] == prev[0]) and (curr[1] > prev[1]):  # horizontal\n",
    "            s1_align += '-'\n",
    "            s2_align += s2[idx2]\n",
    "            idx2 -= 1\n",
    "        else:  # vertical\n",
    "            s1_align += s1[idx1]\n",
    "            s2_align += '-'\n",
    "            idx1 -= 1\n",
    "\n",
    "    s1_align = s1_align[::-1]\n",
    "    s2_align = s2_align[::-1]\n",
    "    \n",
    "    return (s1_align, s2_align)"
   ]
  },
  {
   "cell_type": "code",
   "execution_count": 3,
   "id": "8ea9090a",
   "metadata": {},
   "outputs": [],
   "source": [
    "def pdistance(s1, s2):\n",
    "    differences = 0\n",
    "    for i, j in zip(s1, s2):\n",
    "        if i != j:\n",
    "            differences += 1\n",
    "    \n",
    "    mean_lenght = (len(s1) + len(s2)) / 2\n",
    "    \n",
    "    return differences / mean_lenght"
   ]
  },
  {
   "cell_type": "code",
   "execution_count": 6,
   "id": "c359f968",
   "metadata": {},
   "outputs": [],
   "source": [
    "genus = [f[:-5] for f in os.listdir('raw_data') if f.endswith('.json')]"
   ]
  },
  {
   "cell_type": "code",
   "execution_count": 7,
   "id": "5d6403c3",
   "metadata": {},
   "outputs": [
    {
     "data": {
      "text/plain": [
       "['Xanthocryptus',\n",
       " 'Lycus',\n",
       " 'Camponotus',\n",
       " 'Polistes',\n",
       " 'Vespula',\n",
       " 'Sericomyia',\n",
       " 'Pepsis',\n",
       " 'Syrphus',\n",
       " 'Polyrhachis',\n",
       " 'Battus',\n",
       " 'Photinus',\n",
       " 'Vespa',\n",
       " 'Calopteron',\n",
       " 'Danaus',\n",
       " 'Volucella',\n",
       " 'Bombus',\n",
       " 'Myrmecophilus',\n",
       " 'Messor',\n",
       " 'Tetramorium',\n",
       " 'Papilio',\n",
       " 'Brachypalpus',\n",
       " 'Syntomeida',\n",
       " 'Photuris',\n",
       " 'Merodon',\n",
       " 'Criorhina',\n",
       " 'Elytroleptus',\n",
       " 'Mallota',\n",
       " 'Argynnis',\n",
       " 'Xylocopa',\n",
       " 'Dichocrocis',\n",
       " 'Hyperechia',\n",
       " 'Synanthedon',\n",
       " 'Monomorium',\n",
       " 'Entypus',\n",
       " 'Ithomia',\n",
       " 'Limenitis']"
      ]
     },
     "execution_count": 7,
     "metadata": {},
     "output_type": "execute_result"
    }
   ],
   "source": [
    "genus"
   ]
  },
  {
   "cell_type": "code",
   "execution_count": 8,
   "id": "1dfdc330",
   "metadata": {},
   "outputs": [],
   "source": [
    "matrix = np.zeros((len(genus), len(genus)))"
   ]
  },
  {
   "cell_type": "code",
   "execution_count": 9,
   "id": "cf76036e",
   "metadata": {},
   "outputs": [
    {
     "data": {
      "text/plain": [
       "array([[0., 0., 0., ..., 0., 0., 0.],\n",
       "       [0., 0., 0., ..., 0., 0., 0.],\n",
       "       [0., 0., 0., ..., 0., 0., 0.],\n",
       "       ...,\n",
       "       [0., 0., 0., ..., 0., 0., 0.],\n",
       "       [0., 0., 0., ..., 0., 0., 0.],\n",
       "       [0., 0., 0., ..., 0., 0., 0.]])"
      ]
     },
     "execution_count": 9,
     "metadata": {},
     "output_type": "execute_result"
    }
   ],
   "source": [
    "matrix"
   ]
  },
  {
   "cell_type": "code",
   "execution_count": 12,
   "id": "b67e98b5",
   "metadata": {},
   "outputs": [
    {
     "data": {
      "text/plain": [
       "(36, 36)"
      ]
     },
     "execution_count": 12,
     "metadata": {},
     "output_type": "execute_result"
    }
   ],
   "source": [
    "matrix.shape"
   ]
  },
  {
   "cell_type": "code",
   "execution_count": null,
   "id": "a4de11c3",
   "metadata": {},
   "outputs": [],
   "source": [
    "for i in range(3):\n",
    "    for j in range(3):\n",
    "        genus1 = genus[i]\n",
    "        genus2 = genus[j]\n",
    "        \n",
    "        file1 = 'raw_data'"
   ]
  },
  {
   "cell_type": "code",
   "execution_count": null,
   "id": "9aabb2d9",
   "metadata": {},
   "outputs": [],
   "source": []
  },
  {
   "cell_type": "code",
   "execution_count": 9,
   "id": "b9c5f67e",
   "metadata": {},
   "outputs": [],
   "source": [
    "with open(files[0], 'r') as f:\n",
    "    data = json.load(f)"
   ]
  },
  {
   "cell_type": "code",
   "execution_count": 22,
   "id": "23555f42",
   "metadata": {},
   "outputs": [],
   "source": [
    "seq1 = data['bold_records']['records']['ASQIC500-09']['sequences']['sequence'][0]['nucleotides']"
   ]
  },
  {
   "cell_type": "code",
   "execution_count": 23,
   "id": "51e92e35",
   "metadata": {},
   "outputs": [
    {
     "data": {
      "text/plain": [
       "dict_keys(['ASQIC500-09', 'GBAH21154-19', 'GBAH21156-19', 'GBAH21158-19', 'GBAH21202-19', 'GBAH21223-19', 'GBAH21228-19', 'GBAH21230-19', 'GBAH23669-19', 'GMNZT055-14', 'GMNZW134-14', 'HYQTB122-12', 'NZHH023-12', 'NZHYM158-10', 'NZHYM1647-12'])"
      ]
     },
     "execution_count": 23,
     "metadata": {},
     "output_type": "execute_result"
    }
   ],
   "source": [
    "data['bold_records']['records'].keys()"
   ]
  },
  {
   "cell_type": "code",
   "execution_count": 24,
   "id": "2ca7b6c2",
   "metadata": {},
   "outputs": [
    {
     "data": {
      "text/plain": [
       "'ATTCTATATTTTATTTTTGGTATATGAGCTGGTATACTAGGAGCCTCCATAAGATTAATTATTCGTATAGAATTAGGATCAACAGGATCATTAATTGGAAATGATCAAATTTATAATAATTTAGTTACTGCTCATGCTTTTATTATAATTTTTTTTATAGTTATACCTATTATAATTGGAGGATTTGGAAATTGGTTAGTACCATTAATACTTGGAGCTCCAGATATAGCATTTCCACGCATAAATAATATAAGATTTTGATTACTACCCCCTTCCTTATTTCTTTTAATTAATAGAAGATTTATTAATCAAGGAGTAGGAACTGGATGAACTGTTTACCCTCCCTTATCTTTAAATGTTAATCATGAAGGAATATCTGTTGACATAGCAATTTTTTCTTTACATATAGCAGGGATATCTTCTATTATAGGATCAATTAATTTTATTTCAACTATTTTAAATATATACCCCATAAACTCTAAATTAGATCAAATCACTTTATTTACTTGATCAATTTTAATTACAACAATTTTACTTTTATTAGCTGTACCAGTTTTAGCTGGAGCTATTACAATATTATTATCTGATCGTAATATTAAT------------------------------------'"
      ]
     },
     "execution_count": 24,
     "metadata": {},
     "output_type": "execute_result"
    }
   ],
   "source": [
    "data['bold_records']['records']['GMNZW134-14']['sequences']['sequence'][0]['nucleotides']"
   ]
  },
  {
   "cell_type": "code",
   "execution_count": 25,
   "id": "32c1a5d8",
   "metadata": {},
   "outputs": [],
   "source": [
    "seq2 = data['bold_records']['records']['GMNZW134-14']['sequences']['sequence'][0]['nucleotides']"
   ]
  },
  {
   "cell_type": "code",
   "execution_count": 26,
   "id": "d198b04f",
   "metadata": {},
   "outputs": [
    {
     "data": {
      "text/plain": [
       "'TATTTTATATTTTATTTTTGGAATATGAGCAGGAATATTAGGATCATCAATAAGTTTAATTATCCGAATAGAACTTAGTTCAAGAAGAGGGTTCCTTGATAATAATCTCATTTATAACAATATAGTCACAGCTCATGCTTTTGTCATAATTTTCTTTATAGTTATACCTATTATAATTGGAGGATTTGGTAATTGACTAATCCCTTTAATGTTAGGAGCCCCAGATATAGCCTTTCCTCGTATAAATAATATAAGATTCTGATTATTACCTCCTTCACTATTTTTACTTCTAAATAGAAGAATTATCAATCAAGGAGTAGGAACTGGTTGAACAGTATATCCTCCATTATCATTAAATATTAATCATGAAGGTATATCAGTTGATTTAGCAATTTTTTCTTTACATTTAGCTGGTATATCATCAATTATAGGATCAATCAATTTTATTTCAACAATTTTAAATATATACCCATTAAATTTAAAAATTGATCAAATTTCTTTATTTTCTTGAGCTATTTTTATCACTACAATTTTACTTTTATTAGCCGTACCTGTATTAGCAGGAGCAATTACTATACTATTAGCCGATCGAAATATTAATACATCATTCTTTGATCCTTCAGGTGGAGGAGACCCTATTCTCTACCAACATTTATTT---'"
      ]
     },
     "execution_count": 26,
     "metadata": {},
     "output_type": "execute_result"
    }
   ],
   "source": [
    "seq1"
   ]
  },
  {
   "cell_type": "code",
   "execution_count": 28,
   "id": "aae53b22",
   "metadata": {},
   "outputs": [
    {
     "data": {
      "text/plain": [
       "0.6815728604471858"
      ]
     },
     "execution_count": 28,
     "metadata": {},
     "output_type": "execute_result"
    }
   ],
   "source": [
    "pdistance(seq1, seq2)"
   ]
  },
  {
   "cell_type": "code",
   "execution_count": 33,
   "id": "8825a61f",
   "metadata": {},
   "outputs": [
    {
     "data": {
      "text/plain": [
       "'ATTCTATATTTTATTTTTGGTATATGAGCTGGTATACTAGGAGCCTCCATAAGATTAATTATTCGTATAGAATTAGGATCAACAGGATCATTAATTGGAAATGATCAAATTTATAATAATTTAGTTACTGCTCATGCTTTTATTATAATTTTTTTTATAGTTATACCTATTATAATTGGAGGATTTGGAAATTGGTTAGTACCATTAATACTTGGAGCTCCAGATATAGCATTTCCACGCATAAATAATATAAGATTTTGATTACTACCCCCTTCCTTATTTCTTTTAATTAATAGAAGATTTATTAATCAAGGAGTAGGAACTGGATGAACTGTTTACCCTCCCTTATCTTTAAATGTTAATCATGAAGGAATATCTGTTGACATAGCAATTTTTTCTTTACATATAGCAGGGATATCTTCTATTATAGGATCAATTAATTTTATTTCAACTATTTTAAATATATACCCCATAAACTCTAAATTAGATCAAATCACTTTATTTACTTGATCAATTTTAATTACAACAATTTTACTTTTATTAGCTGTACCAGTTTTAGCTGGAGCTATTACAATATTATTATCTGATCGTAATATTAAT------------------------------------'"
      ]
     },
     "execution_count": 33,
     "metadata": {},
     "output_type": "execute_result"
    }
   ],
   "source": [
    "seq2"
   ]
  },
  {
   "cell_type": "code",
   "execution_count": 34,
   "id": "a1a8c392",
   "metadata": {},
   "outputs": [
    {
     "data": {
      "text/plain": [
       "'ATTCTATATTTTATTTTTGGTATATGAGCTGGTATACTAGGAGCCTCCATAAGATTAATTATTCGTATAGAATTAGGATCAACAGGATCATTAATTGGAAATGATCAAATTTATAATAATTTAGTTACTGCTCATGCTTTTATTATAATTTTTTTTATAGTTATACCTATTATAATTGGAGGATTTGGAAATTGGTTAGTACCATTAATACTTGGAGCTCCAGATATAGCATTTCCACGCATAAATAATATAAGATTTTGATTACTACCCCCTTCCTTATTTCTTTTAATTAATAGAAGATTTATTAATCAAGGAGTAGGAACTGGATGAACTGTTTACCCTCCCTTATCTTTAAATGTTAATCATGAAGGAATATCTGTTGACATAGCAATTTTTTCTTTACATATAGCAGGGATATCTTCTATTATAGGATCAATTAATTTTATTTCAACTATTTTAAATATATACCCCATAAACTCTAAATTAGATCAAATCACTTTATTTACTTGATCAATTTTAATTACAACAATTTTACTTTTATTAGCTGTACCAGTTTTAGCTGGAGCTATTACAATATTATTATCTGATCGTAATATTAAT-------------------------------------------------------------'"
      ]
     },
     "execution_count": 34,
     "metadata": {},
     "output_type": "execute_result"
    }
   ],
   "source": [
    "align(seq1, seq2)[1]"
   ]
  },
  {
   "cell_type": "code",
   "execution_count": 35,
   "id": "0ce31897",
   "metadata": {},
   "outputs": [
    {
     "data": {
      "text/plain": [
       "0.7019667170953101"
      ]
     },
     "execution_count": 35,
     "metadata": {},
     "output_type": "execute_result"
    }
   ],
   "source": [
    "pdistance(*align(seq1, seq2))"
   ]
  },
  {
   "cell_type": "code",
   "execution_count": null,
   "id": "2d22aff3",
   "metadata": {},
   "outputs": [],
   "source": []
  }
 ],
 "metadata": {
  "kernelspec": {
   "display_name": "Python 3",
   "language": "python",
   "name": "python3"
  },
  "language_info": {
   "codemirror_mode": {
    "name": "ipython",
    "version": 3
   },
   "file_extension": ".py",
   "mimetype": "text/x-python",
   "name": "python",
   "nbconvert_exporter": "python",
   "pygments_lexer": "ipython3",
   "version": "3.8.10"
  }
 },
 "nbformat": 4,
 "nbformat_minor": 5
}
