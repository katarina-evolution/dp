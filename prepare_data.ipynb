{
 "cells": [
  {
   "cell_type": "code",
   "execution_count": 9,
   "id": "14a6b0d1",
   "metadata": {},
   "outputs": [],
   "source": [
    "import json\n",
    "import os\n",
    "from collections import Counter"
   ]
  },
  {
   "cell_type": "code",
   "execution_count": 2,
   "id": "c359f968",
   "metadata": {},
   "outputs": [],
   "source": [
    "genus = [f[:-5] for f in os.listdir('raw_data') if f.endswith('.json')]"
   ]
  },
  {
   "cell_type": "code",
   "execution_count": 3,
   "id": "5d6403c3",
   "metadata": {},
   "outputs": [
    {
     "data": {
      "text/plain": [
       "['Xanthocryptus',\n",
       " 'Lycus',\n",
       " 'Camponotus',\n",
       " 'Polistes',\n",
       " 'Vespula',\n",
       " 'Sericomyia',\n",
       " 'Pepsis',\n",
       " 'Syrphus',\n",
       " 'Polyrhachis',\n",
       " 'Battus',\n",
       " 'Photinus',\n",
       " 'Vespa',\n",
       " 'Calopteron',\n",
       " 'Danaus',\n",
       " 'Volucella',\n",
       " 'Bombus',\n",
       " 'Myrmecophilus',\n",
       " 'Messor',\n",
       " 'Tetramorium',\n",
       " 'Papilio',\n",
       " 'Brachypalpus',\n",
       " 'Syntomeida',\n",
       " 'Photuris',\n",
       " 'Merodon',\n",
       " 'Criorhina',\n",
       " 'Elytroleptus',\n",
       " 'Mallota',\n",
       " 'Argynnis',\n",
       " 'Xylocopa',\n",
       " 'Dichocrocis',\n",
       " 'Hyperechia',\n",
       " 'Synanthedon',\n",
       " 'Monomorium',\n",
       " 'Entypus',\n",
       " 'Ithomia',\n",
       " 'Limenitis']"
      ]
     },
     "execution_count": 3,
     "metadata": {},
     "output_type": "execute_result"
    }
   ],
   "source": [
    "genus"
   ]
  },
  {
   "cell_type": "code",
   "execution_count": 4,
   "id": "6c53f063",
   "metadata": {},
   "outputs": [],
   "source": [
    "coi_markercodes = set()"
   ]
  },
  {
   "cell_type": "code",
   "execution_count": 11,
   "id": "9aabb2d9",
   "metadata": {
    "scrolled": false
   },
   "outputs": [
    {
     "name": "stdout",
     "output_type": "stream",
     "text": [
      "Xanthocryptus\n",
      "Lycus\n",
      "Camponotus\n",
      "Polistes\n",
      "Vespula\n",
      "Sericomyia\n",
      "Pepsis\n",
      "Syrphus\n",
      "Polyrhachis\n",
      "Battus\n",
      "Photinus\n",
      "Vespa\n",
      "Calopteron\n",
      "Danaus\n",
      "Volucella\n",
      "Bombus\n",
      "Myrmecophilus\n",
      "Messor\n",
      "Tetramorium\n",
      "Papilio\n",
      "Brachypalpus\n",
      "Syntomeida\n",
      "Photuris\n",
      "Merodon\n",
      "Criorhina\n",
      "Elytroleptus\n",
      "Mallota\n",
      "Argynnis\n",
      "Xylocopa\n",
      "Dichocrocis\n",
      "Hyperechia\n",
      "Synanthedon\n",
      "Monomorium\n",
      "Entypus\n",
      "Ithomia\n",
      "Limenitis\n"
     ]
    }
   ],
   "source": [
    "for g in genus:\n",
    "    print(g)\n",
    "    with open('raw_data/{}.json'.format(g), 'r') as f:\n",
    "        data = json.load(f)\n",
    "    \n",
    "    with open('cooked_data/{}.csv'.format(g), 'w') as f:\n",
    "        for t in data['bold_records']['records'].keys():\n",
    "            #print(t)\n",
    "            if 'sequences' in data['bold_records']['records'][t].keys():\n",
    "                sequences = data['bold_records']['records'][t]['sequences']['sequence']\n",
    "                \n",
    "                for sequence in sequences:\n",
    "                    if sequence['markercode'].upper() == 'COI-5P':\n",
    "                        seq = sequence['nucleotides'].upper()\n",
    "                        f.write('{},{}\\n'.format(t, seq))\n",
    "                \n",
    "                #coi = [s for s in sequences if s['markercode'].upper().startswith('COI')]\n",
    "                #coi_marker = [s['markercode'] for s in sequences if s['markercode'].upper().startswith('COI')]\n",
    "                #coi_markercodes.update(coi_marker)\n",
    "                \n",
    "                #if len(coi) > 1:\n",
    "                    #print(coi)\n",
    "                    #assert False\n",
    "                \n",
    "                "
   ]
  },
  {
   "cell_type": "code",
   "execution_count": 22,
   "id": "83d503ed",
   "metadata": {},
   "outputs": [
    {
     "data": {
      "text/plain": [
       "{'COI-3P', 'COI-5P', 'COI-PSEUDO', 'COII'}"
      ]
     },
     "execution_count": 22,
     "metadata": {},
     "output_type": "execute_result"
    }
   ],
   "source": [
    "coi_markercodes"
   ]
  },
  {
   "cell_type": "code",
   "execution_count": 5,
   "id": "0cf98d3d",
   "metadata": {},
   "outputs": [],
   "source": [
    "coi_markercodes = []"
   ]
  },
  {
   "cell_type": "code",
   "execution_count": 6,
   "id": "6f52b0ee",
   "metadata": {},
   "outputs": [
    {
     "name": "stdout",
     "output_type": "stream",
     "text": [
      "Xanthocryptus\n",
      "Lycus\n",
      "Camponotus\n",
      "Polistes\n",
      "Vespula\n",
      "Sericomyia\n",
      "Pepsis\n",
      "Syrphus\n",
      "Polyrhachis\n",
      "Battus\n",
      "Photinus\n",
      "Vespa\n",
      "Calopteron\n",
      "Danaus\n",
      "Volucella\n",
      "Bombus\n",
      "Myrmecophilus\n",
      "Messor\n",
      "Tetramorium\n",
      "Papilio\n",
      "Brachypalpus\n",
      "Syntomeida\n",
      "Photuris\n",
      "Merodon\n",
      "Criorhina\n",
      "Elytroleptus\n",
      "Mallota\n",
      "Argynnis\n",
      "Xylocopa\n",
      "Dichocrocis\n",
      "Hyperechia\n",
      "Synanthedon\n",
      "Monomorium\n",
      "Entypus\n",
      "Ithomia\n",
      "Limenitis\n"
     ]
    }
   ],
   "source": [
    "for g in genus:\n",
    "    print(g)\n",
    "    with open('raw_data/{}.json'.format(g), 'r') as f:\n",
    "        data = json.load(f)\n",
    "    \n",
    "    #with open('cooked_data/{}.csv'.format(g), 'w') as f:\n",
    "    for t in data['bold_records']['records'].keys():\n",
    "        #print(t)\n",
    "        if 'sequences' in data['bold_records']['records'][t].keys():\n",
    "            sequences = data['bold_records']['records'][t]['sequences']['sequence']\n",
    "\n",
    "            for sequence in sequences:\n",
    "                coi_markercodes.append(sequence['markercode'].upper())\n",
    "                \n",
    "                #if sequence['markercode'].upper() in ['COI-3P', 'COI-5P']:\n",
    "                    #seq = sequence['nucleotides'].upper()\n",
    "                    #f.write('{},{}\\n'.format(t, seq))\n",
    "\n",
    "            #coi = [s for s in sequences if s['markercode'].upper().startswith('COI')]\n",
    "            #coi_marker = [s['markercode'] for s in sequences if s['markercode'].upper().startswith('COI')]\n",
    "            #coi_markercodes.update(coi_marker)\n",
    "\n",
    "            #if len(coi) > 1:\n",
    "                #print(coi)\n",
    "                #assert False\n",
    "                \n",
    "                "
   ]
  },
  {
   "cell_type": "code",
   "execution_count": 7,
   "id": "883f5d9b",
   "metadata": {},
   "outputs": [
    {
     "data": {
      "text/plain": [
       "41925"
      ]
     },
     "execution_count": 7,
     "metadata": {},
     "output_type": "execute_result"
    }
   ],
   "source": [
    "len(coi_markercodes)"
   ]
  },
  {
   "cell_type": "code",
   "execution_count": 10,
   "id": "2d6e0c3d",
   "metadata": {},
   "outputs": [
    {
     "data": {
      "text/plain": [
       "Counter({'COI-5P': 38308,\n",
       "         'COI-3P': 2573,\n",
       "         '12S': 235,\n",
       "         'H3': 252,\n",
       "         'LWRHO': 188,\n",
       "         '16S': 7,\n",
       "         '28S-D2': 74,\n",
       "         'COI-PSEUDO': 4,\n",
       "         'ND3': 17,\n",
       "         'ND5-0': 17,\n",
       "         'ND4': 17,\n",
       "         'CYTB': 17,\n",
       "         'ND1': 17,\n",
       "         'COXIII': 17,\n",
       "         'ND2': 17,\n",
       "         'COII': 17,\n",
       "         'ND6': 17,\n",
       "         'ND4L': 17,\n",
       "         '18S-3P': 29,\n",
       "         'WNT1': 6,\n",
       "         'GAPDH': 4,\n",
       "         'EF1-ALPHA': 6,\n",
       "         'CAD': 6,\n",
       "         'ARGK': 4,\n",
       "         'IDH': 4,\n",
       "         'MDH': 4,\n",
       "         'RPS2': 4,\n",
       "         'RPS5': 4,\n",
       "         'ITS': 3,\n",
       "         'RBM15': 7,\n",
       "         '28S': 7,\n",
       "         'TULP': 6,\n",
       "         'CK1': 7,\n",
       "         'AATS': 7,\n",
       "         'PER': 6})"
      ]
     },
     "execution_count": 10,
     "metadata": {},
     "output_type": "execute_result"
    }
   ],
   "source": [
    "Counter(coi_markercodes)"
   ]
  },
  {
   "cell_type": "code",
   "execution_count": null,
   "id": "2c3f74a4",
   "metadata": {},
   "outputs": [],
   "source": []
  }
 ],
 "metadata": {
  "kernelspec": {
   "display_name": "Python 3",
   "language": "python",
   "name": "python3"
  },
  "language_info": {
   "codemirror_mode": {
    "name": "ipython",
    "version": 3
   },
   "file_extension": ".py",
   "mimetype": "text/x-python",
   "name": "python",
   "nbconvert_exporter": "python",
   "pygments_lexer": "ipython3",
   "version": "3.8.10"
  }
 },
 "nbformat": 4,
 "nbformat_minor": 5
}
