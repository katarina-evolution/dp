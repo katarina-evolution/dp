{
 "cells": [
  {
   "cell_type": "code",
   "execution_count": 1,
   "id": "d4d3db96",
   "metadata": {},
   "outputs": [],
   "source": [
    "import json\n",
    "import os\n",
    "import shutil\n",
    "\n",
    "import requests"
   ]
  },
  {
   "cell_type": "code",
   "execution_count": 2,
   "id": "f63bcafd",
   "metadata": {},
   "outputs": [],
   "source": [
    "mimicry_files = [s for s in os.listdir('mimicry') if s.endswith('.json')]"
   ]
  },
  {
   "cell_type": "code",
   "execution_count": 3,
   "id": "4f3b71d7",
   "metadata": {},
   "outputs": [],
   "source": [
    "genus = set()\n",
    "for mf in mimicry_files:\n",
    "    path = os.path.join('mimicry', mf)\n",
    "    #print(path)\n",
    "    with open(path, 'r') as f:\n",
    "        data = json.loads(f.read())\n",
    "        \n",
    "    genus.add(data['mimetic']['genus'])\n",
    "        \n",
    "    for model in data['model']:\n",
    "        genus.add(model['genus'])"
   ]
  },
  {
   "cell_type": "code",
   "execution_count": 4,
   "id": "8fba482b",
   "metadata": {},
   "outputs": [
    {
     "data": {
      "text/plain": [
       "{'Aphylax',\n",
       " 'Argynnis',\n",
       " 'Battus',\n",
       " 'Bombus',\n",
       " 'Brachypalpus',\n",
       " 'Calopteron',\n",
       " 'Camponotus',\n",
       " 'Criorhina',\n",
       " 'Danaus',\n",
       " 'Dichocrocis',\n",
       " 'Drototelus',\n",
       " 'Elytroleptus',\n",
       " 'Entypus',\n",
       " 'Hyperechia',\n",
       " 'Ithomeis',\n",
       " 'Ithomia',\n",
       " 'Limenitis',\n",
       " 'Lycus',\n",
       " 'Mallota',\n",
       " 'Merodon',\n",
       " 'Messor',\n",
       " 'Monomorium',\n",
       " 'Myrmecophilus',\n",
       " 'Myrmoplasta',\n",
       " 'Papilio',\n",
       " 'Pepsis',\n",
       " 'Photinus',\n",
       " 'Photuris',\n",
       " 'Pocota',\n",
       " 'Polistes',\n",
       " 'Polyrhachis',\n",
       " 'Scaphura',\n",
       " 'Sericomyia',\n",
       " 'Synanthedon',\n",
       " 'Syntomeida',\n",
       " 'Syrphus',\n",
       " 'Tetramorium',\n",
       " 'Vespa',\n",
       " 'Vespula',\n",
       " 'Volucella',\n",
       " 'Xanthocryptus',\n",
       " 'Xylocopa'}"
      ]
     },
     "execution_count": 4,
     "metadata": {},
     "output_type": "execute_result"
    }
   ],
   "source": [
    "genus"
   ]
  },
  {
   "cell_type": "code",
   "execution_count": 5,
   "id": "8cc7c161",
   "metadata": {},
   "outputs": [
    {
     "name": "stdout",
     "output_type": "stream",
     "text": [
      "success Pepsis\n",
      "success Elytroleptus\n",
      "success Sericomyia\n",
      "success Volucella\n",
      "success Criorhina\n",
      "success Merodon\n",
      "success Bombus\n",
      "success Dichocrocis\n",
      "success Hyperechia\n",
      "success Myrmoplasta\n",
      "success Lycus\n",
      "success Polistes\n",
      "success Syrphus\n",
      "success Brachypalpus\n",
      "success Calopteron\n",
      "success Drototelus\n",
      "success Ithomeis\n",
      "success Xylocopa\n",
      "success Limenitis\n",
      "success Photinus\n",
      "success Battus\n",
      "success Aphylax\n",
      "success Photuris\n",
      "success Argynnis\n",
      "success Ithomia\n",
      "success Syntomeida\n",
      "success Mallota\n",
      "success Tetramorium\n",
      "success Papilio\n",
      "success Vespula\n",
      "success Monomorium\n",
      "success Xanthocryptus\n",
      "success Danaus\n",
      "success Messor\n",
      "success Scaphura\n",
      "success Polyrhachis\n",
      "success Synanthedon\n",
      "success Pocota\n",
      "success Entypus\n",
      "success Myrmecophilus\n",
      "success Vespa\n",
      "success Camponotus\n"
     ]
    }
   ],
   "source": [
    "for g in genus:\n",
    "    url = 'http://www.boldsystems.org/index.php/API_Public/combined?taxon={}&format=json'.format(g)\n",
    "    with requests.get(url=url, stream=True) as response:\n",
    "        if response.status_code == 200:\n",
    "            with open('raw_data/{}.json'.format(g), 'wb') as f:\n",
    "                response.raw.decode_content = True\n",
    "                shutil.copyfileobj(response.raw, f)\n",
    "            print('success', g)\n",
    "        else:\n",
    "            print('failure', g)"
   ]
  },
  {
   "cell_type": "code",
   "execution_count": null,
   "id": "815542b6",
   "metadata": {},
   "outputs": [],
   "source": []
  }
 ],
 "metadata": {
  "kernelspec": {
   "display_name": "Python 3",
   "language": "python",
   "name": "python3"
  },
  "language_info": {
   "codemirror_mode": {
    "name": "ipython",
    "version": 3
   },
   "file_extension": ".py",
   "mimetype": "text/x-python",
   "name": "python",
   "nbconvert_exporter": "python",
   "pygments_lexer": "ipython3",
   "version": "3.8.10"
  }
 },
 "nbformat": 4,
 "nbformat_minor": 5
}
