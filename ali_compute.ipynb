{
 "cells": [
  {
   "cell_type": "code",
   "execution_count": 14,
   "id": "c479161d",
   "metadata": {},
   "outputs": [],
   "source": [
    "import json\n",
    "import os\n",
    "from collections import Counter \n",
    "import random\n",
    "import subprocess"
   ]
  },
  {
   "cell_type": "code",
   "execution_count": 10,
   "id": "bc8ad2cf",
   "metadata": {},
   "outputs": [],
   "source": [
    "random.seed(8)"
   ]
  },
  {
   "cell_type": "code",
   "execution_count": 3,
   "id": "52ea6cae",
   "metadata": {},
   "outputs": [],
   "source": [
    "genus = [f[:-5] for f in os.listdir('cooked_data') if f.endswith('.json')]"
   ]
  },
  {
   "cell_type": "code",
   "execution_count": 21,
   "id": "92c6c89a",
   "metadata": {},
   "outputs": [
    {
     "name": "stdout",
     "output_type": "stream",
     "text": [
      "CPU times: user 1.88 ms, sys: 25.8 ms, total: 27.6 ms\n",
      "Wall time: 238 ms\n"
     ]
    }
   ],
   "source": [
    "g = genus[0]\n",
    "\n",
    "with open('cooked_data/{}.json'.format(g), 'r') as f:\n",
    "    data = json.load(f)\n",
    "    \n",
    "\n",
    "while True:\n",
    "    pair = random.choices(data, k=2)\n",
    "    if pair[0]['area'] == pair[1]['area']:\n",
    "        break\n",
    "\n",
    "seq1, seq2 = subprocess.check_output(['alignment', pair[0]['coi5p'], pair[1]['coi5p']]).decode('utf-8').split('\\n')[:2]"
   ]
  },
  {
   "cell_type": "code",
   "execution_count": 20,
   "id": "56baf464",
   "metadata": {},
   "outputs": [
    {
     "data": {
      "text/plain": [
       "('ATTCTATATTTTATTTTTGGTATATGAGCTGGTATACTAGGAGCCTCCATAAGATTAATTATTCGTATAGAATTAGGATCAACAGGATCATTAATTGGAAATGATCAAATTTATAATAATTTAGTTACTGCTCATGCTTTTATTATAATTTTTTTTATAGTTATACCTATTATAATTGGAGGATTTGGAAATTGGTTAGTACCATTAATACTTGGAGCTCCAGATATAGCATTTCCACGCATAAATAATATAAGATTTTGATTACTACCCCCTTCCTTATTTCTTTTAATTAATAGAAGATTTATTAATCAAGGAGTAGGAACTGGATGAACTGTTTACCCTCCCTTATCTTTAAATGTTAATCATGAAGGAATATCTGTTGACATAGCAATTTTTTCTTTACATATAGCAGGGATATCTTCTATTATAGGATCAATTAATTTTATTTCAACTATTTTAAATATATACCCCATAAACTCTAAATTAGATCAAATCACTTTATTTACTTGATCAATTTTAATTACAACAATTTTACTTTTATTAGCTGTACCAGTTTTAGCTGGA------------------------------------------------------------------------',\n",
       " 'ATTCTATATTTTATTTTTGGTATATGAGCTGGTATACTAGGAGCCTCCATAAGATTAATTATTCGTATAGAATTAGGATCAACAGGATCATTAATTGGAAATGATCAAATTTATAATAATTTAGTTACTGCTCATGCTTTTATTATAATTTTTTTTATAGTTATACCTATTATAATTGGAGGATTTGGAAATTGGTTAGTACCATTAATACTTGGAGCTCCAGATATAGCATTTCCACGCATAAATAATATAAGATTTTGATTACTACCCCCTTCCTTATTTCTTTTAATTAATAGAAGATTTATTAATCAAGGAGTAGGAACTGGATGAACTGTTTACCCTCCCTTATCTTTAAATGTTAATCATGAAGGAATATCTGTTGACATAGCAATTTTTTCTTTACATATAGCAGGGATATCTTCTATTATAGGATCAATTAATTTTATTTCAACTATTTTAAATATATACCCCATAAACTCTAAATTAGATCAAATCACTTTATTTACTTGATCAATTTTAATTACAACAATTTTACTTTTATTAGCTGTACCAGTTTTAGCTGGAGCTATTACAATATTATTATCTGATCGTAATATTAAT------------------------------------')"
      ]
     },
     "execution_count": 20,
     "metadata": {},
     "output_type": "execute_result"
    }
   ],
   "source": [
    "seq1, seq2"
   ]
  },
  {
   "cell_type": "code",
   "execution_count": null,
   "id": "f3d52dae",
   "metadata": {},
   "outputs": [],
   "source": []
  }
 ],
 "metadata": {
  "kernelspec": {
   "display_name": "Python 3",
   "language": "python",
   "name": "python3"
  },
  "language_info": {
   "codemirror_mode": {
    "name": "ipython",
    "version": 3
   },
   "file_extension": ".py",
   "mimetype": "text/x-python",
   "name": "python",
   "nbconvert_exporter": "python",
   "pygments_lexer": "ipython3",
   "version": "3.8.10"
  }
 },
 "nbformat": 4,
 "nbformat_minor": 5
}
